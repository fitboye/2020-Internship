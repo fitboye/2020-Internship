{
 "cells": [
  {
   "cell_type": "code",
   "execution_count": null,
   "metadata": {},
   "outputs": [],
   "source": [
    "from torch.utils.data import DataLoader\n",
    "from torch.utils.data import TensorDataset\n",
    "import torch.nn as nn\n",
    "import numpy as np\n",
    "import torch\n",
    "\n",
    "# 准备数据\n",
    "x=np.linspace(-2*np.pi,2*np.pi,400)\n",
    "y=np.sin(x)\n",
    "# 将数据做成数据集的模样\n",
    "X=np.expand_dims(x,axis=1)\n",
    "Y=y.reshape(400,-1)\n",
    "# 使用批训练方式\n",
    "dataset=TensorDataset(torch.tensor(X,dtype=torch.float),torch.tensor(Y,dtype=torch.float))\n",
    "dataloader=DataLoader(dataset,batch_size=100,shuffle=True)\n",
    "\n",
    "# 神经网络主要结构，这里就是一个简单的线性结构\n",
    "\n",
    "class Net(nn.Module):\n",
    "    def __init__(self):\n",
    "        super(Net, self).__init__()\n",
    "        self.net=nn.Sequential(\n",
    "            nn.Linear(in_features=1,out_features=10),nn.ReLU(),\n",
    "            nn.Linear(10,100),nn.ReLU(),\n",
    "            nn.Linear(100,10),nn.ReLU(),\n",
    "            nn.Linear(10,1)\n",
    "        )\n",
    "\n",
    "    def forward(self, input:torch.FloatTensor):\n",
    "        return self.net(input)\n",
    "\n",
    "net=Net()\n",
    "\n",
    "# 定义优化器和损失函数\n",
    "optim=torch.optim.Adam(Net.parameters(net),lr=0.001)\n",
    "Loss=nn.MSELoss()\n",
    "\n",
    "\n",
    "# 下面开始训练：\n",
    "# 一共训练 1000次\n",
    "for epoch in range(1000):\n",
    "    loss=None\n",
    "    for batch_x,batch_y in dataloader:\n",
    "        y_predict=net(batch_x)\n",
    "        loss=Loss(y_predict,batch_y)\n",
    "        optim.zero_grad()\n",
    "        loss.backward()\n",
    "        optim.step()\n",
    "    # 每100次 的时候打印一次日志\n",
    "    if (epoch+1)%100==0:\n",
    "        print(\"step: {0} , loss: {1}\".format(epoch+1,loss.item()))\n",
    "\n",
    "\n",
    "# 使用训练好的模型进行预测\n",
    "predict=net(torch.tensor(X,dtype=torch.float))\n",
    "\n",
    "# 绘图展示预测的和真实数据之间的差异\n",
    "import matplotlib.pyplot as plt\n",
    "plt.plot(x,y,label=\"fact\")\n",
    "plt.plot(x,predict.detach().numpy(),label=\"predict\")\n",
    "plt.title(\"sin function\")\n",
    "plt.xlabel(\"x\")\n",
    "plt.ylabel(\"sin(x)\")\n",
    "plt.legend()\n",
    "plt.savefig(fname=\"result.png\",figsize=[10,10])\n",
    "plt.show()"
   ]
  }
 ],
 "metadata": {
  "kernelspec": {
   "display_name": "Python 3",
   "language": "python",
   "name": "python3"
  },
  "language_info": {
   "codemirror_mode": {
    "name": "ipython",
    "version": 3
   },
   "file_extension": ".py",
   "mimetype": "text/x-python",
   "name": "python",
   "nbconvert_exporter": "python",
   "pygments_lexer": "ipython3",
   "version": "3.6.8"
  },
  "toc": {
   "base_numbering": 1,
   "nav_menu": {},
   "number_sections": true,
   "sideBar": true,
   "skip_h1_title": false,
   "title_cell": "Table of Contents",
   "title_sidebar": "Contents",
   "toc_cell": false,
   "toc_position": {},
   "toc_section_display": true,
   "toc_window_display": false
  },
  "varInspector": {
   "cols": {
    "lenName": 16,
    "lenType": 16,
    "lenVar": 40
   },
   "kernels_config": {
    "python": {
     "delete_cmd_postfix": "",
     "delete_cmd_prefix": "del ",
     "library": "var_list.py",
     "varRefreshCmd": "print(var_dic_list())"
    },
    "r": {
     "delete_cmd_postfix": ") ",
     "delete_cmd_prefix": "rm(",
     "library": "var_list.r",
     "varRefreshCmd": "cat(var_dic_list()) "
    }
   },
   "types_to_exclude": [
    "module",
    "function",
    "builtin_function_or_method",
    "instance",
    "_Feature"
   ],
   "window_display": false
  }
 },
 "nbformat": 4,
 "nbformat_minor": 2
}
