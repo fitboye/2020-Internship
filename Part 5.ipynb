{
 "cells": [
  {
   "cell_type": "code",
   "execution_count": 3,
   "metadata": {},
   "outputs": [],
   "source": [
    "import cv2\n",
    "import numpy as np\n",
    "import torch\n",
    "from torch.autograd import Variable\n",
    "from torchvision import models\n",
    "from __future__ import print_function, division \n",
    "import os \n",
    "import torch \n",
    "import pandas as pd \n",
    "from PIL import Image \n",
    "import numpy as np \n",
    "from torch.utils.data import Dataset, DataLoader \n",
    "from torchvision import transforms \n",
    "import torch.nn as nn\n",
    "import torch.optim as optim\n",
    "import torchvision\n",
    "import torchvision.transforms as transforms\n",
    "import argparse\n",
    "import time\n",
    "#创建30个文件夹"
   ]
  },
  {
   "cell_type": "code",
   "execution_count": 2,
   "metadata": {},
   "outputs": [],
   "source": [
    "def pil_loader(path):\n",
    "    # open path as file to avoid ResourceWarning (https://github.com/python-pillow/Pillow/issues/835)\n",
    "    with open(path, 'rb') as f:\n",
    "        img = Image.open(f)\n",
    "        return img.convert('RGB')#将图片转换为RGB格式。"
   ]
  },
  {
   "cell_type": "code",
   "execution_count": null,
   "metadata": {},
   "outputs": [],
   "source": [
    "transform = transforms.Compose([\n",
    "    transforms.ToTensor()])"
   ]
  },
  {
   "cell_type": "code",
   "execution_count": null,
   "metadata": {},
   "outputs": [],
   "source": [
    "class FeatureVisualization():\n",
    "    def __init__(self,model,img_path,transform,selected_layer,select_filter):\n",
    "        self.img_path=img_path\n",
    "        self.selected_layer=selected_layer\n",
    "        self.pretrained_model = model\n",
    "        self.transform=transform\n",
    "    def imread(path):\n",
    "        # open path as file to avoid ResourceWarning (https://github.com/python-pillow/Pillow/issues/835)\n",
    "        with open(path, 'rb') as f:\n",
    "            img = Image.open(f)\n",
    "        return img.convert('RGB')#将图片转换为RGB格式。\n",
    "        #print( self.pretrained_model)\n",
    "    def process_image(self):\n",
    "        img=imread(self.img_path)\n",
    "        img=self.transform(img)\n",
    "        device = 'cuda' if torch.cuda.is_available() else 'cpu'\n",
    "        if(torch.cuda.is_available()):\n",
    "            img=img.to(device)\n",
    "        return img\n",
    "\n",
    "    def get_feature(self):\n",
    "        # input = Variable(torch.randn(1, 3, 224, 224))\n",
    "        input=self.process_image()\n",
    "        #print(\"input shape\",input.shape)\n",
    "        x=input\n",
    "        for index,layer in enumerate(self.model.named_children()):\n",
    "            #print(index)\n",
    "            #print(layer)\n",
    "            x=layer(x)\n",
    "            if (index == self.selected_layer):\n",
    "                return x\n",
    "\n",
    "    def get_single_feature(self):\n",
    "        features=self.get_feature()\n",
    "        print(\"features.shape\",features.shape)\n",
    "        feature=features[:,0,:,:]\n",
    "        print(feature.shape)\n",
    "        feature=feature.view(feature.shape[1],feature.shape[2])\n",
    "        print(feature.shape)\n",
    "        return features\n",
    "\n",
    "    def save_feature_to_img(self):\n",
    "        #to numpy\n",
    "        features=self.get_single_feature()\n",
    "        for i in range(features.shape[1]):\n",
    "            feature = features[:, i, :, :]\n",
    "            feature = feature.view(feature.shape[1], feature.shape[2])\n",
    "            feature = feature.data.numpy()\n",
    "            # use sigmod to [0,1]\n",
    "            feature = 1.0 / (1 + np.exp(-1 * feature))\n",
    "            # to [0,255]\n",
    "            feature = np.round(feature * 255)\n",
    "            print(feature[0])\n",
    "            mkdir('./feature/' + str(self.selected_layer))\n",
    "            cv2.imwrite('./feature/'+ str( self.selected_layer)+'/' +str(i)+'.jpg', feature)\n",
    "if __name__=='__main__':\n",
    "    # get class\n",
    "    for  k in range(30):\n",
    "        myClass=FeatureVisualization('/home/lqy/examples/TRP.PNG',k)\n",
    "        print (myClass.pretrained_model)\n",
    "        myClass.save_feature_to_img()"
   ]
  }
 ],
 "metadata": {
  "kernelspec": {
   "display_name": "Python 3",
   "language": "python",
   "name": "python3"
  },
  "language_info": {
   "codemirror_mode": {
    "name": "ipython",
    "version": 3
   },
   "file_extension": ".py",
   "mimetype": "text/x-python",
   "name": "python",
   "nbconvert_exporter": "python",
   "pygments_lexer": "ipython3",
   "version": "3.6.8"
  },
  "toc": {
   "base_numbering": 1,
   "nav_menu": {},
   "number_sections": true,
   "sideBar": true,
   "skip_h1_title": false,
   "title_cell": "Table of Contents",
   "title_sidebar": "Contents",
   "toc_cell": false,
   "toc_position": {},
   "toc_section_display": true,
   "toc_window_display": false
  },
  "varInspector": {
   "cols": {
    "lenName": 16,
    "lenType": 16,
    "lenVar": 40
   },
   "kernels_config": {
    "python": {
     "delete_cmd_postfix": "",
     "delete_cmd_prefix": "del ",
     "library": "var_list.py",
     "varRefreshCmd": "print(var_dic_list())"
    },
    "r": {
     "delete_cmd_postfix": ") ",
     "delete_cmd_prefix": "rm(",
     "library": "var_list.r",
     "varRefreshCmd": "cat(var_dic_list()) "
    }
   },
   "types_to_exclude": [
    "module",
    "function",
    "builtin_function_or_method",
    "instance",
    "_Feature"
   ],
   "window_display": false
  }
 },
 "nbformat": 4,
 "nbformat_minor": 2
}
