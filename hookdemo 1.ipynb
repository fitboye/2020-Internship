{
 "cells": [
  {
   "cell_type": "code",
   "execution_count": 13,
   "metadata": {},
   "outputs": [
    {
     "name": "stdout",
     "output_type": "stream",
     "text": [
      "start\n",
      "tensor([2., 4., 6., 8.])\n",
      "x.requires_grad: True\n",
      "y.requires_grad: True\n",
      "z.requires_grad: True\n",
      "w.requires_grad: True\n",
      "o.requires_grad: True\n",
      "x.grad: tensor([2., 4., 6., 8.])\n",
      "y.grad: tensor([2., 4., 6., 8.])\n",
      "w.grad: tensor([ 4.,  6.,  8., 10.])\n",
      "z.grad: tensor([1., 2., 3., 4.])\n",
      "o.grad: tensor(1.)\n"
     ]
    }
   ],
   "source": [
    "import torch\n",
    "\n",
    "x = torch.Tensor([0, 1, 2, 3]).requires_grad_()\n",
    "y = torch.Tensor([4, 5, 6, 7]).requires_grad_()\n",
    "w = torch.Tensor([1, 2, 3, 4]).requires_grad_()\n",
    "z = x+y\n",
    "z.retain_grad()\n",
    "z.register_hook(hook_fn)\n",
    "\n",
    "o = w.matmul(z)\n",
    "o.retain_grad()\n",
    "print(\"start\")\n",
    "o.backward()\n",
    "\n",
    "print('x.requires_grad:', x.requires_grad) # True\n",
    "print('y.requires_grad:', y.requires_grad) # True\n",
    "print('z.requires_grad:', z.requires_grad) # True\n",
    "print('w.requires_grad:', w.requires_grad) # True\n",
    "print('o.requires_grad:', o.requires_grad) # True\n",
    "\n",
    "print('x.grad:', x.grad) # tensor([1., 2., 3., 4.])\n",
    "print('y.grad:', y.grad) # tensor([1., 2., 3., 4.])\n",
    "print('w.grad:', w.grad) # tensor([ 4.,  6.,  8., 10.])\n",
    "print('z.grad:', z.grad) # None\n",
    "print('o.grad:', o.grad) # None"
   ]
  },
  {
   "cell_type": "code",
   "execution_count": 12,
   "metadata": {},
   "outputs": [],
   "source": [
    "def hook_fn(grad):\n",
    "    g = 2 * grad\n",
    "    print(g)\n",
    "    return g"
   ]
  },
  {
   "cell_type": "code",
   "execution_count": 18,
   "metadata": {},
   "outputs": [
    {
     "name": "stdout",
     "output_type": "stream",
     "text": [
      "torch.Size([4, 3])\n",
      "torch.Size([1, 3])\n",
      "aaaaaaa\n",
      "Linear(in_features=3, out_features=4, bias=True)\n",
      "input (tensor([[1., 1., 1.]], requires_grad=True),)\n",
      "output tensor([[  7., -13.,  27., -29.]], grad_fn=<AddmmBackward>)\n",
      "ReLU()\n",
      "input (tensor([[  7., -13.,  27., -29.]], grad_fn=<AddmmBackward>),)\n",
      "output tensor([[ 7.,  0., 27.,  0.]], grad_fn=<ReluBackward0>)\n",
      "Linear(in_features=4, out_features=1, bias=True)\n",
      "input (tensor([[ 7.,  0., 27.,  0.]], grad_fn=<ReluBackward0>),)\n",
      "output tensor([[89.]], grad_fn=<AddmmBackward>)\n",
      "bbbbbbb\n",
      "Linear(in_features=4, out_features=1, bias=True)\n",
      "grad_output (tensor([[1.]]),)\n",
      "grad_input (tensor([1.]), tensor([[1., 2., 3., 4.]]), tensor([[ 7.],\n",
      "        [ 0.],\n",
      "        [27.],\n",
      "        [ 0.]]))\n",
      "ReLU()\n",
      "grad_output (tensor([[1., 2., 3., 4.]]),)\n",
      "grad_input (tensor([[1., 0., 3., 0.]]),)\n",
      "Linear(in_features=3, out_features=4, bias=True)\n",
      "grad_output (tensor([[1., 0., 3., 0.]]),)\n",
      "grad_input (tensor([1., 0., 3., 0.]), tensor([[22., 26., 30.]]), tensor([[1., 0., 3., 0.],\n",
      "        [1., 0., 3., 0.],\n",
      "        [1., 0., 3., 0.]]))\n",
      "==========Saved inputs and outputs==========\n",
      "input:  (tensor([[1., 1., 1.]], requires_grad=True),)\n",
      "output:  tensor([[  7., -13.,  27., -29.]], grad_fn=<AddmmBackward>)\n",
      "input:  (tensor([[  7., -13.,  27., -29.]], grad_fn=<AddmmBackward>),)\n",
      "output:  tensor([[ 7.,  0., 27.,  0.]], grad_fn=<ReluBackward0>)\n",
      "input:  (tensor([[ 7.,  0., 27.,  0.]], grad_fn=<ReluBackward0>),)\n",
      "output:  tensor([[89.]], grad_fn=<AddmmBackward>)\n"
     ]
    }
   ],
   "source": [
    "import torch\n",
    "from torch import nn\n",
    "\n",
    "# 首先我们定义一个模型\n",
    "class Model(nn.Module):\n",
    "    def __init__(self):\n",
    "        super(Model, self).__init__()\n",
    "        self.fc1 = nn.Linear(3, 4)\n",
    "        self.relu1 = nn.ReLU()\n",
    "        self.fc2 = nn.Linear(4, 1)\n",
    "        self.initialize()\n",
    "    \n",
    "    # 为了方便验证，我们将指定特殊的weight和bias\n",
    "    def initialize(self):\n",
    "        with torch.no_grad():\n",
    "            self.fc1.weight = torch.nn.Parameter(\n",
    "                torch.Tensor([[1., 2., 3.],\n",
    "                              [-4., -5., -6.],\n",
    "                              [7., 8., 9.],\n",
    "                              [-10., -11., -12.]]))\n",
    "            print(self.fc1.weight.data.shape)\n",
    "\n",
    "            self.fc1.bias = torch.nn.Parameter(torch.Tensor([1.0, 2.0, 3.0, 4.0]))\n",
    "            self.fc2.weight = torch.nn.Parameter(torch.Tensor([[1.0, 2.0, 3.0, 4.0]]))\n",
    "            self.fc2.bias = torch.nn.Parameter(torch.Tensor([1.0]))\n",
    "\n",
    "    def forward(self, x):\n",
    "        print(\"aaaaaaa\")\n",
    "        o = self.fc1(x)\n",
    "        o = self.relu1(o)\n",
    "        o = self.fc2(o)\n",
    "        print(\"bbbbbbb\")\n",
    "        return o\n",
    "\n",
    "# 全局变量，用于存储中间层的 feature\n",
    "total_feat_out = []\n",
    "total_feat_in = []\n",
    "\n",
    "total_grad_out = []\n",
    "total_grad_in = []\n",
    "\n",
    "# 定义 forward hook function\n",
    "def hook_fn_forward(module, input, output):\n",
    "    print(module) # 用于区分模块\n",
    "    print('input', input) # 首先打印出来\n",
    "    print('output', output)\n",
    "    total_feat_out.append(output) # 然后分别存入全局 list 中\n",
    "    total_feat_in.append(input)\n",
    "\n",
    "def hook_fn_backward(module, grad_input, grad_output):\n",
    "    print(module) # 为了区分模块\n",
    "    # 为了符合反向传播的顺序，我们先打印 grad_output\n",
    "    print('grad_output', grad_output) \n",
    "    # 再打印 grad_input\n",
    "    print('grad_input', grad_input)\n",
    "    # 保存到全局变量\n",
    "    total_grad_in.append(grad_input)\n",
    "    total_grad_out.append(grad_output)\n",
    "\n",
    "model = Model()\n",
    "\n",
    "modules = model.named_children() # \n",
    "for name, module in modules:\n",
    "    module.register_forward_hook(hook_fn_forward)\n",
    "    module.register_backward_hook(hook_fn_backward)\n",
    "\n",
    "# 注意下面代码中 x 的维度，对于linear module，输入一定是大于等于二维的\n",
    "# （第一维是 batch size）。在 forward hook 中看不出来，但是 backward hook 中，\n",
    "# 得到的梯度完全不对。\n",
    "# 有一篇 hook 的教程就是这里出了错，作者还强行解释\n",
    "\n",
    "x = torch.Tensor([[1.0, 1.0, 1.0]]).requires_grad_()\n",
    "o = model(x)\n",
    "o.backward()\n",
    "\n",
    "print('==========Saved inputs and outputs==========')\n",
    "for idx in range(len(total_feat_in)):\n",
    "    print('input: ', total_feat_in[idx])\n",
    "    print('output: ', total_feat_out[idx])"
   ]
  },
  {
   "cell_type": "code",
   "execution_count": null,
   "metadata": {},
   "outputs": [],
   "source": []
  }
 ],
 "metadata": {
  "kernelspec": {
   "display_name": "Python 3",
   "language": "python",
   "name": "python3"
  },
  "language_info": {
   "codemirror_mode": {
    "name": "ipython",
    "version": 3
   },
   "file_extension": ".py",
   "mimetype": "text/x-python",
   "name": "python",
   "nbconvert_exporter": "python",
   "pygments_lexer": "ipython3",
   "version": "3.6.8"
  },
  "toc": {
   "base_numbering": 1,
   "nav_menu": {},
   "number_sections": true,
   "sideBar": true,
   "skip_h1_title": false,
   "title_cell": "Table of Contents",
   "title_sidebar": "Contents",
   "toc_cell": false,
   "toc_position": {},
   "toc_section_display": true,
   "toc_window_display": false
  },
  "varInspector": {
   "cols": {
    "lenName": 16,
    "lenType": 16,
    "lenVar": 40
   },
   "kernels_config": {
    "python": {
     "delete_cmd_postfix": "",
     "delete_cmd_prefix": "del ",
     "library": "var_list.py",
     "varRefreshCmd": "print(var_dic_list())"
    },
    "r": {
     "delete_cmd_postfix": ") ",
     "delete_cmd_prefix": "rm(",
     "library": "var_list.r",
     "varRefreshCmd": "cat(var_dic_list()) "
    }
   },
   "types_to_exclude": [
    "module",
    "function",
    "builtin_function_or_method",
    "instance",
    "_Feature"
   ],
   "window_display": false
  }
 },
 "nbformat": 4,
 "nbformat_minor": 2
}
